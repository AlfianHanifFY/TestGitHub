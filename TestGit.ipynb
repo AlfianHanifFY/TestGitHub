{
  "nbformat": 4,
  "nbformat_minor": 0,
  "metadata": {
    "colab": {
      "provenance": [],
      "authorship_tag": "ABX9TyOm3HsAhMRtMjWSDDWznlU0",
      "include_colab_link": true
    },
    "kernelspec": {
      "name": "python3",
      "display_name": "Python 3"
    },
    "language_info": {
      "name": "python"
    }
  },
  "cells": [
    {
      "cell_type": "markdown",
      "metadata": {
        "id": "view-in-github",
        "colab_type": "text"
      },
      "source": [
        "<a href=\"https://colab.research.google.com/github/AlfianHanifFY/TestGitHub/blob/main/TestGit.ipynb\" target=\"_parent\"><img src=\"https://colab.research.google.com/assets/colab-badge.svg\" alt=\"Open In Colab\"/></a>"
      ]
    },
    {
      "cell_type": "code",
      "source": [
        "print(\"hello world\")"
      ],
      "metadata": {
        "id": "B1raEdqDurTL"
      },
      "execution_count": null,
      "outputs": []
    },
    {
      "cell_type": "code",
      "source": [
        "for i in range(10):\n",
        "  print(\"halo\")"
      ],
      "metadata": {
        "id": "BH5B4zbpxsCJ",
        "outputId": "f7bf36b3-7c87-4dc8-a3d3-cde1e88e3069",
        "colab": {
          "base_uri": "https://localhost:8080/"
        }
      },
      "execution_count": 1,
      "outputs": [
        {
          "output_type": "stream",
          "name": "stdout",
          "text": [
            "halo\n",
            "halo\n",
            "halo\n",
            "halo\n",
            "halo\n",
            "halo\n",
            "halo\n",
            "halo\n",
            "halo\n",
            "halo\n"
          ]
        }
      ]
    }
  ]
}