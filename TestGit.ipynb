{
  "nbformat": 4,
  "nbformat_minor": 0,
  "metadata": {
    "colab": {
      "provenance": [],
      "authorship_tag": "ABX9TyO1cxz6tnnN7/asCHN1cYDd",
      "include_colab_link": true
    },
    "kernelspec": {
      "name": "python3",
      "display_name": "Python 3"
    },
    "language_info": {
      "name": "python"
    }
  },
  "cells": [
    {
      "cell_type": "markdown",
      "metadata": {
        "id": "view-in-github",
        "colab_type": "text"
      },
      "source": [
        "<a href=\"https://colab.research.google.com/github/AlfianHanifFY/TestGitHub/blob/main/TestGit.ipynb\" target=\"_parent\"><img src=\"https://colab.research.google.com/assets/colab-badge.svg\" alt=\"Open In Colab\"/></a>"
      ]
    },
    {
      "cell_type": "code",
      "source": [
        "print(\"hello world\")"
      ],
      "metadata": {
        "id": "B1raEdqDurTL"
      },
      "execution_count": null,
      "outputs": []
    },
    {
      "cell_type": "code",
      "source": [
        "for i in range(10):\n",
        "  print(\"halo\")"
      ],
      "metadata": {
        "id": "BH5B4zbpxsCJ"
      },
      "execution_count": null,
      "outputs": []
    },
    {
      "cell_type": "code",
      "source": [
        "# sorting\n",
        "\n",
        "arr = [4,3,2,1,2,3,4,5,6,7,1,2,23,4,3,5,2,1]\n",
        "new_arr = [0 for i in range(len(arr))]\n",
        "\n",
        "for i in range(len(arr)):\n",
        "  val = max(arr)\n",
        "  val_index= arr.index(max(arr))\n",
        "  new_arr[i] = val\n",
        "  arr[val_index] = 0\n",
        "\n",
        "print(new_arr)"
      ],
      "metadata": {
        "id": "SSxApB7aIu71"
      },
      "execution_count": null,
      "outputs": []
    },
    {
      "cell_type": "code",
      "source": [],
      "metadata": {
        "id": "Ct-RJLe8JNde"
      },
      "execution_count": null,
      "outputs": []
    }
  ]
}